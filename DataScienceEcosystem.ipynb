{
 "cells": [
  {
   "cell_type": "markdown",
   "id": "13497271-6625-4d6a-b083-f1a6bf39650d",
   "metadata": {},
   "source": [
    "Data Science Tools and Ecosystem"
   ]
  },
  {
   "cell_type": "markdown",
   "id": "12a9439b-8151-443d-b138-103cf2a860a4",
   "metadata": {},
   "source": [
    "In this notebook, Data Science Tools and Ecosystem are summarized."
   ]
  },
  {
   "cell_type": "markdown",
   "id": "af0e1931-0eff-4c54-b6c3-89c314ce8136",
   "metadata": {},
   "source": [
    "Some of the popular languages that Data Scientists use are:\n",
    "    1.Python\n",
    "    2.SQL\n",
    "    3.R"
   ]
  },
  {
   "cell_type": "markdown",
   "id": "b1698343-dc9f-4afa-a2e6-c3769ce70a0e",
   "metadata": {
    "tags": []
   },
   "source": [
    "| Data Science Tools |\n",
    "| ---------------|\n",
    "| RStudio |\n",
    "| Apache Spark |\n",
    "| Tensorflow |"
   ]
  },
  {
   "cell_type": "markdown",
   "id": "99e0d595-739f-4fe2-8240-6757183ef927",
   "metadata": {},
   "source": [
    "Below are a few examples of evaluating arithmetic expressions in Python.\n"
   ]
  },
  {
   "cell_type": "code",
   "execution_count": 2,
   "id": "89e1940b-8ea0-4d59-9211-eef61636f2a0",
   "metadata": {
    "tags": []
   },
   "outputs": [
    {
     "data": {
      "text/plain": [
       "17"
      ]
     },
     "execution_count": 2,
     "metadata": {},
     "output_type": "execute_result"
    }
   ],
   "source": [
    "(3*4)+5"
   ]
  },
  {
   "cell_type": "markdown",
   "id": "81364a14-af0d-4bd0-989c-fa30dd42103d",
   "metadata": {},
   "source": [
    "This a simple arithmetic expression to mutiply then add integers."
   ]
  },
  {
   "cell_type": "code",
   "execution_count": 5,
   "id": "f795ad22-8ca5-4cc2-a6cd-fc55cda9b5d5",
   "metadata": {
    "tags": []
   },
   "outputs": [
    {
     "data": {
      "text/plain": [
       "3.3333333333333335"
      ]
     },
     "execution_count": 5,
     "metadata": {},
     "output_type": "execute_result"
    }
   ],
   "source": [
    "200/60"
   ]
  },
  {
   "cell_type": "markdown",
   "id": "2747b1b1-3f14-4e90-8a33-de932478ce83",
   "metadata": {},
   "source": [
    "This will convert 200 minutes to hours by diving by 60."
   ]
  },
  {
   "cell_type": "markdown",
   "id": "7f9e99b0-e761-43f3-a3c1-21057eba42e1",
   "metadata": {
    "tags": []
   },
   "source": [
    "**Objectives:**"
   ]
  },
  {
   "cell_type": "markdown",
   "id": "081fd878-fefd-4927-b310-516429b884aa",
   "metadata": {},
   "source": [
    "* Arithmetics"
   ]
  },
  {
   "cell_type": "markdown",
   "id": "036ade7b-884f-47a6-be0a-9d3ccf19139b",
   "metadata": {},
   "source": [
    "* Open Sources"
   ]
  },
  {
   "cell_type": "markdown",
   "id": "84d40a80-002c-4f06-8e0a-1a0ef45e83a9",
   "metadata": {
    "tags": []
   },
   "source": [
    "* Most using languages for Data Science"
   ]
  },
  {
   "cell_type": "markdown",
   "id": "b82c7034-992e-4d5e-8209-6208084b0765",
   "metadata": {},
   "source": [
    "# Author"
   ]
  },
  {
   "cell_type": "markdown",
   "id": "034b3b3a-fce4-4e5e-be91-5c14502d592b",
   "metadata": {},
   "source": [
    "Fahri Efe Yanıklar"
   ]
  }
 ],
 "metadata": {
  "kernelspec": {
   "display_name": "Python",
   "language": "python",
   "name": "conda-env-python-py"
  },
  "language_info": {
   "codemirror_mode": {
    "name": "ipython",
    "version": 3
   },
   "file_extension": ".py",
   "mimetype": "text/x-python",
   "name": "python",
   "nbconvert_exporter": "python",
   "pygments_lexer": "ipython3",
   "version": "3.7.12"
  }
 },
 "nbformat": 4,
 "nbformat_minor": 5
}
